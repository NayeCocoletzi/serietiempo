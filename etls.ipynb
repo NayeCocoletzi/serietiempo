{
 "cells": [
  {
   "cell_type": "code",
   "execution_count": 32,
   "metadata": {},
   "outputs": [],
   "source": [
    "import pandas as pd\n",
    "import os\n",
    "import boto3\n",
    "import configparser\n",
    "from sie_banxico import SIEBanxico\n",
    "from INEGIpy import Indicadores"
   ]
  },
  {
   "cell_type": "code",
   "execution_count": 33,
   "metadata": {},
   "outputs": [
    {
     "name": "stdout",
     "output_type": "stream",
     "text": [
      "Carpeta 'raw/' creada con éxito en el bucket 'itam-analytics-anayeli'.\n"
     ]
    }
   ],
   "source": [
    "#* Creammos una fucnión para creae el folde y almacenar la infromación\n",
    "def crear_carpeta_s3(bucket_nombre, carpeta_nombre):\n",
    "    \"\"\"\n",
    "    Crea una \"carpeta\" en un bucket de Amazon S3.\n",
    "\n",
    "    Args:\n",
    "        bucket_nombre (str): El nombre del bucket de S3.\n",
    "        carpeta_nombre (str): El nombre de la \"carpeta\" que se creará\n",
    "    \"\"\"\n",
    "    s3 = boto3.client('s3')\n",
    "    try:\n",
    "        s3.put_object(Bucket=bucket_nombre, Key=carpeta_nombre)\n",
    "        print(f\"Carpeta '{carpeta_nombre}' creada con éxito en el bucket '{bucket_nombre}'.\")\n",
    "    except Exception as e:\n",
    "        print(f\"Error al crear la carpeta '{carpeta_nombre}': {e}\")\n",
    "\n",
    "# Ejemplo de uso\n",
    "bucket_nombre = 'itam-analytics-anayeli' \n",
    "carpeta_nombre = 'raw/'\n",
    "\n",
    "crear_carpeta_s3(bucket_nombre, carpeta_nombre)"
   ]
  },
  {
   "cell_type": "code",
   "execution_count": 37,
   "metadata": {},
   "outputs": [
    {
     "name": "stdout",
     "output_type": "stream",
     "text": [
      "Serie 'tipo_de_cambio' descargada y se transformó con éxito.\n",
      "Archivo tipo_de_cambio.csv subido a S3\n",
      "Serie 'tasa_interes' descargada y se transformó con éxito.\n",
      "Archivo tasa_interes.csv subido a S3\n"
     ]
    }
   ],
   "source": [
    "\n",
    "# * Cargar configuración del archivo yaml\n",
    "config = configparser.ConfigParser()\n",
    "# Se lee el archivo de configuración \n",
    "config.read('config/config.yaml')\n",
    "\n",
    "# * Inicializamos la API de BANXICO\n",
    "banxico_token = config['BANXICO']['token']\n",
    "\n",
    "# * Series de datos que necesitamos descargar:\n",
    "# * - SF43718: Serie con los datos correspondientes al tipo de cambio\n",
    "# * - SF43783: Serie con los datos de la tasa de interés\n",
    "# Se define un diccionario que contiene los IDs de las series de datos que se van a descargar.\n",
    "series_id = {'tipo_de_cambio': 'SF43718',\n",
    "             'tasa_interes': 'SF43783'\n",
    "             }\n",
    "# Configuración de AWS para subir los documentos\n",
    "bucket_name = 'itam-analytics-anayeli'  \n",
    "s3_folder = 'raw'\n",
    "s3 = boto3.client('s3')\n",
    "\n",
    "# * Creamos una función para descargar y transformar los datos de BANXICO\n",
    "def clean_banxico(nombre, serie_id):\n",
    "    \"\"\"\n",
    "    Se crea una instancia de la clase SIEBanxico para interactuar con la API de BANXICO\n",
    "    Se obtienen los datos de la serie de tiempo utilizando el método 'get_timeseries()'\n",
    "    Se transforman los datos, modificando el formato de la fecha y el nombre de los datos\n",
    "    Finalmnete se crea archivo CSV \n",
    "    Args:\n",
    "        nombre (str): nombre de la serie que se quiere descargar/transformar\n",
    "        serie_id (str): id de la serie que se quiere descagar/trasnformar\n",
    "    Return:\n",
    "        Devuelve un archivo csv, transformado, listo para cargarse a S3\n",
    "    \"\"\"\n",
    "    try:\n",
    "        api = SIEBanxico(token=banxico_token, id_series=serie_id, language='es')\n",
    "        data = api.get_timeseries()\n",
    "        df = pd.DataFrame(data['bmx']['series'][0]['datos'])\n",
    "        df.rename(columns={'fecha': 'timestamp', 'dato': nombre}, inplace=True)\n",
    "        df['timestamp'] = pd.to_datetime(df['timestamp'], format=\"%d/%m/%Y\")\n",
    "        df[nombre] = pd.to_numeric(df[nombre], errors='coerce').astype(float)\n",
    "        df = df[['timestamp', nombre]]\n",
    "        filename = f\"{nombre}.csv\"\n",
    "        csv_buffer = df.to_csv(index=False)\n",
    "        s3.put_object(Bucket=bucket_name, Key=f\"{s3_folder}/{filename}\", Body=csv_buffer)\n",
    "        df.to_csv(os.path.join('raw', filename), index=False)\n",
    "        # Se imprime un mensaje indicando que la serie se descargó y transformó con éxito.\n",
    "        print(f\"Serie '{nombre}' descargada y se transformó con éxito.\")\n",
    "        print(f\"Archivo {filename} subido a S3\")\n",
    "    except Exception as e:\n",
    "        # Si ocurre algún error durante el proceso, se imprime un mensaje de error.\n",
    "        print(f\"Error al descargar la serie: {e}\")\n",
    "\n",
    "# Descargar y subir datos de Banxico\n",
    "for nombre, serie_id in series_id.items():\n",
    "    clean_banxico(nombre, serie_id)"
   ]
  },
  {
   "cell_type": "code",
   "execution_count": null,
   "metadata": {},
   "outputs": [],
   "source": [
    "#import configparser\n",
    "from INEGIpy import Indicadores  # Importamos la clase INEGI, no Indicadores\n",
    "\n",
    "# Cargar configuración del archivo yaml\n",
    "config = configparser.ConfigParser()\n",
    "config.read('config/config.yaml')\n",
    "\n",
    "# Inicializamos la API de INEGI\n",
    "inegi_token ='2oDTd0xv-8Ezu-8E6P-Hpb2-qYCLqm9F4PuN'\n",
    "\n",
    "# Creamos una instancia de la clase INEGI\n",
    "inegi_api = Indicadores(inegi_token)  # Usamos la clase INEGI correcta\n",
    "\n",
    "try:\n",
    "    Obtenemos el catálogo de indicadores para 'BIE'\n",
    "    catalogo_bie = inegi_api.catalogo_indicadores(banco='BIE')  # Corregimos el acceso al método\n",
    "\n",
    "    #Obtenemos un DataFrame con los indicadores\n",
    "    df = inegi_api.obtener_df(indicadores=['628194'], nombres=['INPC general'], inicio='2000', fin='2023', banco='BIE') #Se agrega el banco.\n",
    "    print(df)\n",
    "except AssertionError as e:\n",
    "    print(f\"Error al descargar la serie: {e}\")\n",
    "except Exception as e:\n",
    "    print(f\"Ocurrió un error inesperado: {e}\")"
   ]
  }
 ],
 "metadata": {
  "kernelspec": {
   "display_name": "arquitectura",
   "language": "python",
   "name": "python3"
  },
  "language_info": {
   "codemirror_mode": {
    "name": "ipython",
    "version": 3
   },
   "file_extension": ".py",
   "mimetype": "text/x-python",
   "name": "python",
   "nbconvert_exporter": "python",
   "pygments_lexer": "ipython3",
   "version": "3.11.11"
  }
 },
 "nbformat": 4,
 "nbformat_minor": 2
}
