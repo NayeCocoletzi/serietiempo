{
 "cells": [
  {
   "cell_type": "code",
   "execution_count": null,
   "metadata": {},
   "outputs": [],
   "source": [
    "#* Cargamos las paqueterias necesarias\n",
    "import pandas as pd\n",
    "import boto3\n",
    "import awswrangler as wr\n",
    "session = boto3.Session(profile_name='arquitectura')\n",
    "s3 = session.client('s3')\n",
    "\n",
    "#* Agregamos las especificaciones necesarias\n",
    "database_name = \"econ\""
   ]
  },
  {
   "cell_type": "code",
   "execution_count": null,
   "metadata": {},
   "outputs": [],
   "source": [
    "#* Tabla de tipo de cambio\n",
    "query = '''\n",
    "    -- Create tipo_cambio table\n",
    "CREATE EXTERNAL TABLE IF NOT EXISTS `econ`.`tipo_de_cambio` (\n",
    "    `timestamp` date,\n",
    "    `tipo_de_cambio` bigint\n",
    ") \n",
    "ROW FORMAT SERDE 'org.apache.hadoop.hive.serde2.lazy.LazySimpleSerDe'\n",
    "WITH SERDEPROPERTIES ('field.delim' = ',')\n",
    "STORED AS INPUTFORMAT 'org.apache.hadoop.mapred.TextInputFormat' \n",
    "OUTPUTFORMAT 'org.apache.hadoop.hive.ql.io.HiveIgnoreKeyTextOutputFormat'\n",
    "LOCATION 's3://itam-analytics-anayeli/raw/'\n",
    "TBLPROPERTIES ('classification' = 'csv', \"skip.header.line.count\"=\"1\");\n",
    "'''\n",
    "\n",
    "wr.athena.read_sql_query(query, database=database_name, ctas_approach=False, boto3_session=session)"
   ]
  },
  {
   "cell_type": "code",
   "execution_count": null,
   "metadata": {},
   "outputs": [],
   "source": [
    "#* Tabla de la tasa de interes\n",
    "query = '''\n",
    "-- Create tasa_interes table\n",
    "CREATE EXTERNAL TABLE IF NOT EXISTS `econ`.`tasa_interes` (\n",
    "    `timestamp` date,\n",
    "    `tasa_interes` bigint\n",
    ") \n",
    "ROW FORMAT SERDE 'org.apache.hadoop.hive.serde2.lazy.LazySimpleSerDe'\n",
    "WITH SERDEPROPERTIES ('field.delim' = ',')\n",
    "STORED AS INPUTFORMAT 'org.apache.hadoop.mapred.TextInputFormat' \n",
    "OUTPUTFORMAT 'org.apache.hadoop.hive.ql.io.HiveIgnoreKeyTextOutputFormat'\n",
    "LOCATION 's3://itam-analytics-anayeli/raw/'\n",
    "TBLPROPERTIES ('classification' = 'csv', \"skip.header.line.count\"=\"1\");\n",
    "'''\n",
    "\n",
    "wr.athena.read_sql_query(query, database=database_name, ctas_approach=False, boto3_session=session)"
   ]
  },
  {
   "cell_type": "code",
   "execution_count": null,
   "metadata": {},
   "outputs": [],
   "source": [
    "#* Tabla de la inflacion\n",
    "query = '''\n",
    "-- Create tasa_interes table\n",
    "CREATE EXTERNAL TABLE IF NOT EXISTS `econ`.`inflacion` (\n",
    "    `timestamp` date,\n",
    "    `inflacion` bigint\n",
    ") \n",
    "ROW FORMAT SERDE 'org.apache.hadoop.hive.serde2.lazy.LazySimpleSerDe'\n",
    "WITH SERDEPROPERTIES ('field.delim' = ',')\n",
    "STORED AS INPUTFORMAT 'org.apache.hadoop.mapred.TextInputFormat' \n",
    "OUTPUTFORMAT 'org.apache.hadoop.hive.ql.io.HiveIgnoreKeyTextOutputFormat'\n",
    "LOCATION 's3://itam-analytics-anayeli/raw/'\n",
    "TBLPROPERTIES ('classification' = 'csv', \"skip.header.line.count\"=\"1\");\n",
    "'''\n",
    "\n",
    "wr.athena.read_sql_query(query, database=database_name, ctas_approach=False, boto3_session=session)"
   ]
  },
  {
   "cell_type": "code",
   "execution_count": 8,
   "metadata": {},
   "outputs": [],
   "source": [
    "#* Generamos un join con las tres tablas que creamos y lo guardamos en un dataframe\n",
    "query = '''\n",
    "SELECT COALESCE(tc.timestamp, ti.timestamp, inf.timestamp) AS date,\n",
    "       tc.tipo_de_cambio,\n",
    "       ti.tasa_interes,\n",
    "       inf.inflacion\n",
    "FROM econ.tipo_de_cambio tc\n",
    "INNER JOIN econ.tasa_interes ti on tc.timestamp=ti.timestamp\n",
    "INNER JOIN econ.inflacion as inf ON COALESCE(tc.timestamp, ti.timestamp) = inf.timestamp;\n",
    "'''\n",
    "\n",
    "data = wr.athena.read_sql_query(query, database=database_name, ctas_approach=False, boto3_session=session)"
   ]
  }
 ],
 "metadata": {
  "kernelspec": {
   "display_name": "arquitectura",
   "language": "python",
   "name": "python3"
  },
  "language_info": {
   "codemirror_mode": {
    "name": "ipython",
    "version": 3
   },
   "file_extension": ".py",
   "mimetype": "text/x-python",
   "name": "python",
   "nbconvert_exporter": "python",
   "pygments_lexer": "ipython3",
   "version": "3.11.11"
  }
 },
 "nbformat": 4,
 "nbformat_minor": 2
}
